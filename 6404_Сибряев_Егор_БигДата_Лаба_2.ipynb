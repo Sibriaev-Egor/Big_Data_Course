{
  "nbformat": 4,
  "nbformat_minor": 0,
  "metadata": {
    "colab": {
      "provenance": []
    },
    "kernelspec": {
      "name": "python3",
      "display_name": "Python 3"
    },
    "language_info": {
      "name": "python"
    }
  },
  "cells": [
    {
      "cell_type": "code",
      "execution_count": 230,
      "metadata": {
        "id": "73JXAt7YBbST"
      },
      "outputs": [],
      "source": [
        "!apt-get install openjdk-8-jdk-headless -qq > /dev/null\n",
        "!wget -q http://archive.apache.org/dist/spark/spark-3.5.1/spark-3.5.1-bin-hadoop3.tgz\n",
        "!tar xf spark-3.5.1-bin-hadoop3.tgz\n",
        "!pip install -q findspark"
      ]
    },
    {
      "cell_type": "code",
      "source": [
        "import os\n",
        "import findspark\n",
        "os.environ[\"JAVA_HOME\"] = \"/usr/lib/jvm/java-8-openjdk-amd64\"\n",
        "os.environ[\"SPARK_HOME\"] = \"/content/spark-3.5.1-bin-hadoop3\"\n",
        "findspark.init()"
      ],
      "metadata": {
        "id": "5BjyVEzfPDoE"
      },
      "execution_count": 231,
      "outputs": []
    },
    {
      "cell_type": "code",
      "source": [
        "from pyspark.sql import SparkSession\n",
        "from pyspark import SparkContext, SparkConf\n",
        "from pyspark.sql.types import ArrayType, StringType\n",
        "from pyspark.sql import functions as func\n",
        "from pyspark.sql.window import Window\n",
        "\n",
        "from typing import NamedTuple\n",
        "from datetime import datetime\n",
        "import numpy as np\n",
        "import re"
      ],
      "metadata": {
        "id": "WcOOISmAPLAc"
      },
      "execution_count": 232,
      "outputs": []
    },
    {
      "cell_type": "code",
      "source": [
        "spark = SparkSession.builder\\\n",
        "        .master(\"local[*]\")\\\n",
        "        .appName(\"LR2\")\\\n",
        "        .config(\"spark.jars.packages\", \"com.databricks:spark-xml_2.12:0.14.0\")\\\n",
        "        .getOrCreate()\n",
        "\n",
        "prog_language_data = spark.read\\\n",
        ".option(\"header\", True)\\\n",
        ".option(\"inferSchema\", True)\\\n",
        ".option(\"timestampFormat\", 'M/d/y H:m')\\\n",
        ".csv(\"sample_data/programming-languages.csv\")"
      ],
      "metadata": {
        "id": "3jCR0CxXPtq7"
      },
      "execution_count": 233,
      "outputs": []
    },
    {
      "cell_type": "code",
      "source": [
        "prog_language_data.show(n=10, truncate=False)"
      ],
      "metadata": {
        "colab": {
          "base_uri": "https://localhost:8080/"
        },
        "id": "5V1ik7eVP-u1",
        "outputId": "feb8edf3-8a60-4a4e-b465-058cc30d6a5e"
      },
      "execution_count": 234,
      "outputs": [
        {
          "output_type": "stream",
          "name": "stdout",
          "text": [
            "+----------+---------------------------------------------------------+\n",
            "|name      |wikipedia_url                                            |\n",
            "+----------+---------------------------------------------------------+\n",
            "|A# .NET   |https://en.wikipedia.org/wiki/A_Sharp_(.NET)             |\n",
            "|A# (Axiom)|https://en.wikipedia.org/wiki/A_Sharp_(Axiom)            |\n",
            "|A-0 System|https://en.wikipedia.org/wiki/A-0_System                 |\n",
            "|A+        |https://en.wikipedia.org/wiki/A%2B_(programming_language)|\n",
            "|A++       |https://en.wikipedia.org/wiki/A%2B%2B                    |\n",
            "|ABAP      |https://en.wikipedia.org/wiki/ABAP                       |\n",
            "|ABC       |https://en.wikipedia.org/wiki/ABC_(programming_language) |\n",
            "|ABC ALGOL |https://en.wikipedia.org/wiki/ABC_ALGOL                  |\n",
            "|ABSET     |https://en.wikipedia.org/wiki/ABSET                      |\n",
            "|ABSYS     |https://en.wikipedia.org/wiki/ABSYS                      |\n",
            "+----------+---------------------------------------------------------+\n",
            "only showing top 10 rows\n",
            "\n"
          ]
        }
      ]
    },
    {
      "cell_type": "code",
      "source": [
        "posts_path = '/content/sample_data/posts_sample.xml'\n",
        "posts_data = spark.read.format('xml').options(rowTag='row').load(posts_path)"
      ],
      "metadata": {
        "id": "s-d2JiZ_QV9N"
      },
      "execution_count": 235,
      "outputs": []
    },
    {
      "cell_type": "code",
      "source": [
        "posts_data.printSchema()\n",
        "posts_data.show(n=10, truncate=False)"
      ],
      "metadata": {
        "colab": {
          "base_uri": "https://localhost:8080/"
        },
        "id": "pm_KX4esQjg5",
        "outputId": "93c1caa2-9307-45a4-9e9d-0ae7273d3522"
      },
      "execution_count": 236,
      "outputs": [
        {
          "output_type": "stream",
          "name": "stdout",
          "text": [
            "root\n",
            " |-- _AcceptedAnswerId: long (nullable = true)\n",
            " |-- _AnswerCount: long (nullable = true)\n",
            " |-- _Body: string (nullable = true)\n",
            " |-- _ClosedDate: timestamp (nullable = true)\n",
            " |-- _CommentCount: long (nullable = true)\n",
            " |-- _CommunityOwnedDate: timestamp (nullable = true)\n",
            " |-- _CreationDate: timestamp (nullable = true)\n",
            " |-- _FavoriteCount: long (nullable = true)\n",
            " |-- _Id: long (nullable = true)\n",
            " |-- _LastActivityDate: timestamp (nullable = true)\n",
            " |-- _LastEditDate: timestamp (nullable = true)\n",
            " |-- _LastEditorDisplayName: string (nullable = true)\n",
            " |-- _LastEditorUserId: long (nullable = true)\n",
            " |-- _OwnerDisplayName: string (nullable = true)\n",
            " |-- _OwnerUserId: long (nullable = true)\n",
            " |-- _ParentId: long (nullable = true)\n",
            " |-- _PostTypeId: long (nullable = true)\n",
            " |-- _Score: long (nullable = true)\n",
            " |-- _Tags: string (nullable = true)\n",
            " |-- _Title: string (nullable = true)\n",
            " |-- _ViewCount: long (nullable = true)\n",
            "\n",
            "+-----------------+------------+-------------------------------------------------------------------------------------------------------------------------------------------------------------------------------------------------------------------------------------------------------------------------------------------------------------------------------------------------------------------------------------------------------------------------------------------------------------------------------------------------------------------------------------------------------------------------------------------------------------------------------------------------------------------------------------------------------------------------------------------------------------------------------------------------------------------------------------------------------------------------------------------------------------------------------------------------------------------------------------------------------------------------------------------------------------------------------------------------------------------------------------------------------------+-----------+-------------+-----------------------+-----------------------+--------------+-------+-----------------------+-----------------------+----------------------+-----------------+-----------------+------------+---------+-----------+------+------------------------------------------------------+-------------------------------------------------------------------------------------+----------+\n",
            "|_AcceptedAnswerId|_AnswerCount|_Body                                                                                                                                                                                                                                                                                                                                                                                                                                                                                                                                                                                                                                                                                                                                                                                                                                                                                                                                                                                                                                                                                                                                                        |_ClosedDate|_CommentCount|_CommunityOwnedDate    |_CreationDate          |_FavoriteCount|_Id    |_LastActivityDate      |_LastEditDate          |_LastEditorDisplayName|_LastEditorUserId|_OwnerDisplayName|_OwnerUserId|_ParentId|_PostTypeId|_Score|_Tags                                                 |_Title                                                                               |_ViewCount|\n",
            "+-----------------+------------+-------------------------------------------------------------------------------------------------------------------------------------------------------------------------------------------------------------------------------------------------------------------------------------------------------------------------------------------------------------------------------------------------------------------------------------------------------------------------------------------------------------------------------------------------------------------------------------------------------------------------------------------------------------------------------------------------------------------------------------------------------------------------------------------------------------------------------------------------------------------------------------------------------------------------------------------------------------------------------------------------------------------------------------------------------------------------------------------------------------------------------------------------------------+-----------+-------------+-----------------------+-----------------------+--------------+-------+-----------------------+-----------------------+----------------------+-----------------+-----------------+------------+---------+-----------+------+------------------------------------------------------+-------------------------------------------------------------------------------------+----------+\n",
            "|7                |13          |<p>I want to use a track-bar to change a form's opacity.</p>\\n\\n<p>This is my code:</p>\\n\\n<pre><code>decimal trans = trackBar1.Value / 5000;\\nthis.Opacity = trans;\\n</code></pre>\\n\\n<p>When I build the application, it gives the following error:</p>\\n\\n<blockquote>\\n  <p>Cannot implicitly convert type <code>'decimal'</code> to <code>'double'</code></p>\\n</blockquote>\\n\\n<p>I tried using <code>trans</code> and <code>double</code> but then the control doesn't work. This code worked fine in a past VB.NET project.</p>\\n                                                                                                                                                                                                                                                                                                                                                                                                                                                                                                                                                                                                                    |NULL       |2            |2012-10-31 16:42:47.213|2008-07-31 21:42:52.667|48            |4      |2019-07-19 01:39:54.173|2019-07-19 01:39:54.173|Rich B                |3641067          |NULL             |8           |NULL     |1          |630   |<c#><floating-point><type-conversion><double><decimal>|Convert Decimal to Double?                                                           |42817     |\n",
            "|31               |6           |<p>I have an absolutely positioned <code>div</code> containing several children, one of which is a relatively positioned <code>div</code>. When I use a <code>percentage-based width</code> on the child <code>div</code>, it collapses to <code>0 width</code> on IE7, but not on Firefox or Safari.</p>\\n\\n<p>If I use <code>pixel width</code>, it works. If the parent is relatively positioned, the percentage width on the child works.</p>\\n\\n<ol>\\n<li>Is there something I'm missing here?</li>\\n<li>Is there an easy fix for this besides the <code>pixel-based width</code> on the\\nchild?</li>\\n<li>Is there an area of the CSS specification that covers this?</li>\\n</ol>\\n                                                                                                                                                                                                                                                                                                                                                                                                                                                                    |NULL       |0            |NULL                   |2008-07-31 22:08:08.62 |10            |6      |2019-07-19 01:43:04.077|2019-07-19 01:43:04.077|Rich B                |3641067          |NULL             |9           |NULL     |1          |281   |<html><css><internet-explorer-7>                      |Percentage width child element in absolutely positioned parent on Internet Explorer 7|18214     |\n",
            "|NULL             |NULL        |<p>An explicit cast to double like this isn't necessary:</p>\\n\\n<pre><code>double trans = (double) trackBar1.Value / 5000.0;\\n</code></pre>\\n\\n<p>Identifying the constant as <code>5000.0</code> (or as <code>5000d</code>) is sufficient:</p>\\n\\n<pre><code>double trans = trackBar1.Value / 5000.0;\\ndouble trans = trackBar1.Value / 5000d;\\n</code></pre>\\n                                                                                                                                                                                                                                                                                                                                                                                                                                                                                                                                                                                                                                                                                                                                                                                             |NULL       |0            |NULL                   |2008-07-31 22:17:57.883|NULL          |7      |2017-12-16 05:06:57.613|2017-12-16 05:06:57.613|NULL                  |4020527          |NULL             |9           |4        |2          |425   |NULL                                                  |NULL                                                                                 |NULL      |\n",
            "|1404             |63          |<p>Given a <code>DateTime</code> representing a person's birthday, how do I calculate their age in years?  </p>\\n                                                                                                                                                                                                                                                                                                                                                                                                                                                                                                                                                                                                                                                                                                                                                                                                                                                                                                                                                                                                                                            |NULL       |5            |2011-08-16 19:40:43.08 |2008-07-31 23:40:59.743|436           |9      |2019-06-26 15:25:44.253|2018-04-21 17:48:14.477|Rich B                |3956566          |NULL             |1           |NULL     |1          |1742  |<c#><.net><datetime>                                  |How do I calculate someone's age in C#?                                              |555183    |\n",
            "|1248             |37          |<p>Given a specific <code>DateTime</code> value, how do I display relative time, like:</p>\\n\\n<ul>\\n<li>2 hours ago</li>\\n<li>3 days ago</li>\\n<li>a month ago</li>\\n</ul>\\n                                                                                                                                                                                                                                                                                                                                                                                                                                                                                                                                                                                                                                                                                                                                                                                                                                                                                                                                                                                 |NULL       |3            |2009-09-04 13:15:59.82 |2008-07-31 23:55:37.967|539           |11     |2019-05-26 02:31:53.863|2017-06-04 15:51:19.78 |user2370523           |6479704          |NULL             |1           |NULL     |1          |1444  |<c#><datetime><time><datediff><relative-time-span>    |Calculate relative time in C#                                                        |149445    |\n",
            "|NULL             |NULL        |<p>Here's how I do it</p>\\n\\n<pre class=\"lang-csharp prettyprint-override\"><code>var ts = new TimeSpan(DateTime.UtcNow.Ticks - dt.Ticks);\\ndouble delta = Math.Abs(ts.TotalSeconds);\\n\\nif (delta &lt; 60)\\n{\\n  return ts.Seconds == 1 ? \"one second ago\" : ts.Seconds + \" seconds ago\";\\n}\\nif (delta &lt; 120)\\n{\\n  return \"a minute ago\";\\n}\\nif (delta &lt; 2700) // 45 * 60\\n{\\n  return ts.Minutes + \" minutes ago\";\\n}\\nif (delta &lt; 5400) // 90 * 60\\n{\\n  return \"an hour ago\";\\n}\\nif (delta &lt; 86400) // 24 * 60 * 60\\n{\\n  return ts.Hours + \" hours ago\";\\n}\\nif (delta &lt; 172800) // 48 * 60 * 60\\n{\\n  return \"yesterday\";\\n}\\nif (delta &lt; 2592000) // 30 * 24 * 60 * 60\\n{\\n  return ts.Days + \" days ago\";\\n}\\nif (delta &lt; 31104000) // 12 * 30 * 24 * 60 * 60\\n{\\n  int months = Convert.ToInt32(Math.Floor((double)ts.Days / 30));\\n  return months &lt;= 1 ? \"one month ago\" : months + \" months ago\";\\n}\\nint years = Convert.ToInt32(Math.Floor((double)ts.Days / 365));\\nreturn years &lt;= 1 ? \"one year ago\" : years + \" years ago\";\\n</code></pre>\\n\\n<p>Suggestions? Comments? Ways to improve this algorithm?</p>\\n|NULL       |11           |2009-09-04 13:15:59.82 |2008-07-31 23:56:41.303|NULL          |12     |2018-01-12 16:10:22.637|2018-01-12 16:10:22.637|GateKiller            |1271898          |NULL             |1           |11       |2          |327   |NULL                                                  |NULL                                                                                 |NULL      |\n",
            "|NULL             |24          |<p>Is there a standard way for a web server to be able to determine a user's timezone within a web page? </p>\\n\\n<p>Perhaps from an HTTP header or part of the <code>user-agent</code> string?</p>\\n                                                                                                                                                                                                                                                                                                                                                                                                                                                                                                                                                                                                                                                                                                                                                                                                                                                                                                                                                         |NULL       |10           |NULL                   |2008-08-01 00:42:38.903|147           |13     |2019-05-14 16:02:10.28 |2018-12-24 22:47:42.787|Rich B                |9752662          |NULL             |9           |NULL     |1          |590   |<html><browser><timezone><user-agent><timezone-offset>|Determine a user's timezone                                                          |176405    |\n",
            "|NULL             |10          |<p>What is the difference between <a href=\"http://msdn.microsoft.com/en-us/library/9a6a2sxy.aspx\" rel=\"noreferrer\"><code>Math.Floor()</code></a> and <a href=\"http://msdn.microsoft.com/en-us/library/system.math.truncate.aspx\" rel=\"noreferrer\"><code>Math.Truncate()</code></a> in .NET?</p>\\n                                                                                                                                                                                                                                                                                                                                                                                                                                                                                                                                                                                                                                                                                                                                                                                                                                                            |NULL       |4            |NULL                   |2008-08-01 00:59:11.177|57            |14     |2018-09-19 03:49:19.447|2017-02-25 17:42:17.81 |Rich B                |6495084          |Anonymous User   |11          |NULL     |1          |399   |<.net><math>                                          |Difference between Math.Floor() and Math.Truncate()                                  |123231    |\n",
            "|NULL             |NULL        |<p>No. (And more stuff to round this up to 15 characters...)</p>\\n                                                                                                                                                                                                                                                                                                                                                                                                                                                                                                                                                                                                                                                                                                                                                                                                                                                                                                                                                                                                                                                                                           |NULL       |6            |NULL                   |2010-09-20 16:18:14.58 |NULL          |3753373|2010-09-20 16:18:14.58 |NULL                   |NULL                  |NULL             |NULL             |10293       |3753364  |2          |13    |NULL                                                  |NULL                                                                                 |NULL      |\n",
            "|NULL             |NULL        |<p>I am not aware of a way to use the URL parameters the way you have indicated. If anyone knows better, do correct me.</p>\\n\\n<p>I faced a similar situation some time ago and made do with a thin wrapper over the <code>list_detail</code> view. </p>\\n\\n<pre><code># views.py\\nfrom django.views.generic.list_detail import object_list\\n\\ndef object_list_wrapper(*args, **kwargs):\\n    category = kwargs.pop('category')\\n    queryset = Post.objects.filter(category = category)\\n    kwargs['queryset'] = queryset\\n    return object_list(*args, **kwargs)\\n\\n#urls.py\\nurlpatterns = patterns('myapp.views',\\n    url(r'^$', 'object_list_wrapper', {}, name=\"postRoot\"),        \\n...\\n</code></pre>\\n                                                                                                                                                                                                                                                                                                                                                                                                                                           |NULL       |2            |NULL                   |2010-09-20 18:36:28.023|NULL          |3754384|2010-09-20 18:43:25.493|2010-09-20 18:43:25.493|NULL                  |140185           |NULL             |140185      |3754279  |2          |2     |NULL                                                  |NULL                                                                                 |NULL      |\n",
            "+-----------------+------------+-------------------------------------------------------------------------------------------------------------------------------------------------------------------------------------------------------------------------------------------------------------------------------------------------------------------------------------------------------------------------------------------------------------------------------------------------------------------------------------------------------------------------------------------------------------------------------------------------------------------------------------------------------------------------------------------------------------------------------------------------------------------------------------------------------------------------------------------------------------------------------------------------------------------------------------------------------------------------------------------------------------------------------------------------------------------------------------------------------------------------------------------------------------+-----------+-------------+-----------------------+-----------------------+--------------+-------+-----------------------+-----------------------+----------------------+-----------------+-----------------+------------+---------+-----------+------+------------------------------------------------------+-------------------------------------------------------------------------------------+----------+\n",
            "only showing top 10 rows\n",
            "\n"
          ]
        }
      ]
    },
    {
      "cell_type": "code",
      "source": [
        "prog_language_list = prog_language_data.select(\"name\").collect()\n",
        "prog_language_list = [l.name.lower() for l in prog_language_list]\n",
        "prog_language_list[:10]"
      ],
      "metadata": {
        "colab": {
          "base_uri": "https://localhost:8080/"
        },
        "id": "vj86vwnMRK_l",
        "outputId": "e37e25e4-d6bd-4eea-e086-a7931a5abf2d"
      },
      "execution_count": 237,
      "outputs": [
        {
          "output_type": "execute_result",
          "data": {
            "text/plain": [
              "['a# .net',\n",
              " 'a# (axiom)',\n",
              " 'a-0 system',\n",
              " 'a+',\n",
              " 'a++',\n",
              " 'abap',\n",
              " 'abc',\n",
              " 'abc algol',\n",
              " 'abset',\n",
              " 'absys']"
            ]
          },
          "metadata": {},
          "execution_count": 237
        }
      ]
    },
    {
      "cell_type": "code",
      "source": [
        "def get_language_from_tag(tag):\n",
        "  if tag is None:\n",
        "    return []\n",
        "  # поиск по регулярному выражению\n",
        "  tags = re.findall(r'<([^<>]*)>', tag)\n",
        "  langs = []\n",
        "  for i in range(len(tags)):\n",
        "    # сохраняем в список, если тег - ЯП\n",
        "    if (tags[i] in prog_language_list):\n",
        "      langs.append(tags[i])\n",
        "  return langs"
      ],
      "metadata": {
        "id": "C8eiiJihRhO7"
      },
      "execution_count": 238,
      "outputs": []
    },
    {
      "cell_type": "code",
      "source": [
        "# udf функция\n",
        "udf_get_lang = func.udf(get_language_from_tag, ArrayType(StringType()))\n",
        "\n",
        "posts_data_langs = posts_data.withColumn(\"prog_langs\", udf_get_lang(posts_data._Tags))\n",
        "posts_data_langs = posts_data_langs.withColumn(\"year\", func.year(posts_data._CreationDate))\n",
        "posts_data_langs = posts_data_langs.select(\"year\", func.explode(\"prog_langs\").alias(\"language\"), \"_ViewCount\")\n",
        "\n",
        "# оставляем записи с 2010 по 2020 год\n",
        "posts_data_langs_period = posts_data_langs.filter((posts_data_langs.year >= 2010) & (posts_data_langs.year <= 2020))\n",
        "posts_data_langs_period.show(20)"
      ],
      "metadata": {
        "colab": {
          "base_uri": "https://localhost:8080/"
        },
        "id": "jYySgSpOSAzt",
        "outputId": "f7cfa729-544c-4640-fc0a-df0ff60ac129"
      },
      "execution_count": 239,
      "outputs": [
        {
          "output_type": "stream",
          "name": "stdout",
          "text": [
            "+----+-----------+----------+\n",
            "|year|   language|_ViewCount|\n",
            "+----+-----------+----------+\n",
            "|2010|       java|       132|\n",
            "|2010|        php|      1258|\n",
            "|2010|       ruby|      9649|\n",
            "|2010|          c|      2384|\n",
            "|2010|        php|      1987|\n",
            "|2010|     python|      3321|\n",
            "|2010| javascript|       128|\n",
            "|2010|applescript|       477|\n",
            "|2010|        php|      1748|\n",
            "|2010|        php|       998|\n",
            "|2010| javascript|      2095|\n",
            "|2010|        sed|       447|\n",
            "|2010|     python|      6558|\n",
            "|2010|       java|       214|\n",
            "|2010|       ruby|       214|\n",
            "|2010|objective-c|       852|\n",
            "|2010| javascript|       179|\n",
            "|2010|          r|      6709|\n",
            "|2010|        php|        78|\n",
            "|2010| javascript|      1280|\n",
            "+----+-----------+----------+\n",
            "only showing top 20 rows\n",
            "\n"
          ]
        }
      ]
    },
    {
      "cell_type": "code",
      "source": [
        "# получение списка ЯП суммарным просмотрам в году - популярности ЯП\n",
        "top_langs = posts_data_langs_period.groupBy(\"year\", \"language\").agg({\"_ViewCount\": \"sum\"})\\\n",
        "            .withColumnRenamed(\"sum(_ViewCount)\", \"uses\")\n",
        "top_langs.show(20)"
      ],
      "metadata": {
        "colab": {
          "base_uri": "https://localhost:8080/"
        },
        "id": "hBJG7lVBS4kk",
        "outputId": "4c746c85-d294-472d-dc0b-2299c5991509"
      },
      "execution_count": 240,
      "outputs": [
        {
          "output_type": "stream",
          "name": "stdout",
          "text": [
            "+----+-----------+------+\n",
            "|year|   language|  uses|\n",
            "+----+-----------+------+\n",
            "|2019| typescript|  1577|\n",
            "|2017|       perl|  2366|\n",
            "|2012|       bash|  9333|\n",
            "|2011|objective-c|218934|\n",
            "|2013|        php|471986|\n",
            "|2018|    jscript|    38|\n",
            "|2013|       chef| 62421|\n",
            "|2017|       curl|   897|\n",
            "|2013|     delphi| 20143|\n",
            "|2016|        awk|  1808|\n",
            "|2016| coldfusion|  1032|\n",
            "|2019|         go|   533|\n",
            "|2015|       bash| 25543|\n",
            "|2019|      xpath|    27|\n",
            "|2013|          c| 37918|\n",
            "|2016|         f#|   364|\n",
            "|2014|       glsl|  2515|\n",
            "|2013|       curl| 18293|\n",
            "|2013|    haskell|  1043|\n",
            "|2014|         f#|   457|\n",
            "+----+-----------+------+\n",
            "only showing top 20 rows\n",
            "\n"
          ]
        }
      ]
    },
    {
      "cell_type": "code",
      "source": [
        "# оконная функция по популярности\n",
        "window_func = Window.partitionBy('year').orderBy(func.desc('uses'))\n",
        "# получение ранга ЯП по году\n",
        "langs_rank = top_langs.withColumn('rank', func.row_number().over(window_func))\n",
        "# оставляем только 10 позиций\n",
        "top_languages_per_year = langs_rank.filter(langs_rank['rank'] < 11)"
      ],
      "metadata": {
        "id": "UsQCupAZTVTT"
      },
      "execution_count": 241,
      "outputs": []
    },
    {
      "cell_type": "code",
      "source": [
        "top_languages_per_year.write.mode('overwrite').parquet('top_languages_per_year.parquet')"
      ],
      "metadata": {
        "id": "kiVChBxFTjs0"
      },
      "execution_count": 242,
      "outputs": []
    },
    {
      "cell_type": "code",
      "source": [
        "# чтение результата из файла parquet\n",
        "top_languages_parquet = spark.read.parquet('top_languages_per_year.parquet')\n",
        "top_languages_parquet.show(n=10*10)"
      ],
      "metadata": {
        "colab": {
          "base_uri": "https://localhost:8080/"
        },
        "id": "LpXXZ-deXtrr",
        "outputId": "7fd6b94e-a4e8-40ee-8206-8249d6f954e1"
      },
      "execution_count": 243,
      "outputs": [
        {
          "output_type": "stream",
          "name": "stdout",
          "text": [
            "+----+-----------+-------+----+\n",
            "|year|   language|   uses|rank|\n",
            "+----+-----------+-------+----+\n",
            "|2010|        php|1189629|   1|\n",
            "|2010|       java| 563211|   2|\n",
            "|2010| javascript| 316131|   3|\n",
            "|2010|objective-c|  97009|   4|\n",
            "|2010|       ruby|  76215|   5|\n",
            "|2010|          c|  66587|   6|\n",
            "|2010|     python|  60672|   7|\n",
            "|2010|     matlab|  51865|   8|\n",
            "|2010|applescript|  32305|   9|\n",
            "|2010|     delphi|  13065|  10|\n",
            "|2011| javascript| 809078|   1|\n",
            "|2011|       java| 389834|   2|\n",
            "|2011|        php| 246770|   3|\n",
            "|2011|          c| 238277|   4|\n",
            "|2011|objective-c| 218934|   5|\n",
            "|2011|     python| 203180|   6|\n",
            "|2011|       bash|  60805|   7|\n",
            "|2011|       ruby|  39223|   8|\n",
            "|2011|       perl|  28502|   9|\n",
            "|2011|     matlab|  18816|  10|\n",
            "|2012|       java| 661770|   1|\n",
            "|2012| javascript| 572750|   2|\n",
            "|2012|        php| 459506|   3|\n",
            "|2012|     python| 275337|   4|\n",
            "|2012|       ruby| 104610|   5|\n",
            "|2012|objective-c|  94438|   6|\n",
            "|2012|          c|  69276|   7|\n",
            "|2012|          r|  43917|   8|\n",
            "|2012|      xpath|  32981|   9|\n",
            "|2012|      scala|  24592|  10|\n",
            "|2013|       java|1036852|   1|\n",
            "|2013| javascript| 609571|   2|\n",
            "|2013|        php| 471986|   3|\n",
            "|2013|objective-c| 401254|   4|\n",
            "|2013|     python| 163898|   5|\n",
            "|2013| powershell| 154758|   6|\n",
            "|2013|       bash|  73169|   7|\n",
            "|2013|       chef|  62421|   8|\n",
            "|2013|       ruby|  57407|   9|\n",
            "|2013|         io|  44228|  10|\n",
            "|2014| javascript| 505893|   1|\n",
            "|2014|       java| 434130|   2|\n",
            "|2014|     python| 241959|   3|\n",
            "|2014|        php| 238579|   4|\n",
            "|2014|          c|  87281|   5|\n",
            "|2014|objective-c|  57110|   6|\n",
            "|2014|          r|  50113|   7|\n",
            "|2014|      scala|  40786|   8|\n",
            "|2014|     delphi|  23684|   9|\n",
            "|2014|       ruby|  21631|  10|\n",
            "|2015| javascript| 342097|   1|\n",
            "|2015|     python| 280129|   2|\n",
            "|2015|       java| 270303|   3|\n",
            "|2015|        php| 155899|   4|\n",
            "|2015|          r|  60437|   5|\n",
            "|2015|       abap|  30613|   6|\n",
            "|2015|      scala|  29803|   7|\n",
            "|2015|       bash|  25543|   8|\n",
            "|2015|          c|  20084|   9|\n",
            "|2015|         go|  11625|  10|\n",
            "|2016| javascript| 233802|   1|\n",
            "|2016|     python| 219510|   2|\n",
            "|2016|       java| 169513|   3|\n",
            "|2016|        php| 105849|   4|\n",
            "|2016|          r|  49717|   5|\n",
            "|2016| powershell|  36175|   6|\n",
            "|2016| typescript|  33343|   7|\n",
            "|2016|          c|  17568|   8|\n",
            "|2016|         go|  13062|   9|\n",
            "|2016|       ruby|  12909|  10|\n",
            "|2017|       java| 149826|   1|\n",
            "|2017| javascript| 146638|   2|\n",
            "|2017|     python| 128190|   3|\n",
            "|2017|        php|  61882|   4|\n",
            "|2017| typescript|  29031|   5|\n",
            "|2017|     kotlin|  25082|   6|\n",
            "|2017|          r|  24690|   7|\n",
            "|2017|      scala|   8856|   8|\n",
            "|2017|          c|   6180|   9|\n",
            "|2017|objective-c|   5795|  10|\n",
            "|2018|     python|  99996|   1|\n",
            "|2018| javascript|  64133|   2|\n",
            "|2018|       java|  40309|   3|\n",
            "|2018|        php|  34978|   4|\n",
            "|2018| typescript|  33139|   5|\n",
            "|2018|     kotlin|  13225|   6|\n",
            "|2018|          r|  11420|   7|\n",
            "|2018| powershell|   7300|   8|\n",
            "|2018|       dart|   6445|   9|\n",
            "|2018|      scala|   4531|  10|\n",
            "|2019|     python|  18857|   1|\n",
            "|2019| javascript|  13434|   2|\n",
            "|2019|       java|   5942|   3|\n",
            "|2019|        php|   3753|   4|\n",
            "|2019|       dart|   2205|   5|\n",
            "|2019| typescript|   1577|   6|\n",
            "|2019|          r|   1520|   7|\n",
            "|2019|     delphi|   1173|   8|\n",
            "|2019|          c|   1111|   9|\n",
            "|2019|       bash|    722|  10|\n",
            "+----+-----------+-------+----+\n",
            "\n"
          ]
        }
      ]
    }
  ]
}