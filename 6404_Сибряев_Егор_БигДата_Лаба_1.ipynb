{
  "nbformat": 4,
  "nbformat_minor": 0,
  "metadata": {
    "colab": {
      "provenance": []
    },
    "kernelspec": {
      "name": "python3",
      "display_name": "Python 3"
    },
    "language_info": {
      "name": "python"
    }
  },
  "cells": [
    {
      "cell_type": "code",
      "execution_count": null,
      "metadata": {
        "id": "yI2nh42tcN1w"
      },
      "outputs": [],
      "source": [
        "!apt-get install openjdk-8-jdk-headless -qq > /dev/null\n",
        "!wget -q http://archive.apache.org/dist/spark/spark-3.5.1/spark-3.5.1-bin-hadoop3.tgz\n",
        "!tar xf spark-3.5.1-bin-hadoop3.tgz\n",
        "!pip install -q findspark"
      ]
    },
    {
      "cell_type": "code",
      "source": [
        "import os\n",
        "os.environ[\"JAVA_HOME\"] = \"/usr/lib/jvm/java-8-openjdk-amd64\"\n",
        "os.environ[\"SPARK_HOME\"] = \"/content/spark-3.5.1-bin-hadoop3\"\n",
        "import findspark\n",
        "findspark.init()"
      ],
      "metadata": {
        "id": "i57OwzGDjfr7"
      },
      "execution_count": null,
      "outputs": []
    },
    {
      "cell_type": "code",
      "source": [
        "from pyspark.sql import SparkSession\n",
        "from pyspark import SparkContext, SparkConf\n",
        "from pyspark.sql.functions import udf\n",
        "from pyspark.sql import functions as func\n",
        "from pyspark.sql.types import DoubleType\n",
        "\n",
        "from typing import NamedTuple\n",
        "from datetime import datetime\n",
        "import numpy as np"
      ],
      "metadata": {
        "id": "IgLC9-SvjuWk"
      },
      "execution_count": null,
      "outputs": []
    },
    {
      "cell_type": "markdown",
      "source": [
        "# Инициализируем сессию"
      ],
      "metadata": {
        "id": "WL_pX8RAkFvs"
      }
    },
    {
      "cell_type": "code",
      "source": [
        "spark = SparkSession.builder.master(\"local[*]\").appName(\"LR1\").getOrCreate()\n",
        "\n",
        "trip_data = spark.read\\\n",
        ".option(\"header\", True)\\\n",
        ".option(\"inferSchema\", True)\\\n",
        ".option(\"timestampFormat\", 'M/d/y H:m')\\\n",
        ".csv(\"trips.csv\")\n",
        "\n",
        "trip_data.printSchema()"
      ],
      "metadata": {
        "colab": {
          "base_uri": "https://localhost:8080/"
        },
        "id": "PvaXg4Zgj58n",
        "outputId": "28c80692-0632-48a4-c55f-38dca46024ff"
      },
      "execution_count": null,
      "outputs": [
        {
          "output_type": "stream",
          "name": "stdout",
          "text": [
            "root\n",
            " |-- id: integer (nullable = true)\n",
            " |-- duration: integer (nullable = true)\n",
            " |-- start_date: timestamp (nullable = true)\n",
            " |-- start_station_name: string (nullable = true)\n",
            " |-- start_station_id: integer (nullable = true)\n",
            " |-- end_date: timestamp (nullable = true)\n",
            " |-- end_station_name: string (nullable = true)\n",
            " |-- end_station_id: integer (nullable = true)\n",
            " |-- bike_id: integer (nullable = true)\n",
            " |-- subscription_type: string (nullable = true)\n",
            " |-- zip_code: string (nullable = true)\n",
            "\n"
          ]
        }
      ]
    },
    {
      "cell_type": "code",
      "source": [
        "station_data = spark.read\\\n",
        ".option(\"header\", True)\\\n",
        ".option(\"inferSchema\", True)\\\n",
        ".option(\"timestampFormat\", 'M/d/y H:m')\\\n",
        ".csv(\"stations.csv\")\n",
        "\n",
        "station_data.printSchema()"
      ],
      "metadata": {
        "colab": {
          "base_uri": "https://localhost:8080/"
        },
        "id": "bRb0DYvh5mCj",
        "outputId": "f31b107d-7e39-428f-960e-f354ae0b8d10"
      },
      "execution_count": null,
      "outputs": [
        {
          "output_type": "stream",
          "name": "stdout",
          "text": [
            "root\n",
            " |-- id: integer (nullable = true)\n",
            " |-- name: string (nullable = true)\n",
            " |-- lat: double (nullable = true)\n",
            " |-- long: double (nullable = true)\n",
            " |-- dock_count: integer (nullable = true)\n",
            " |-- city: string (nullable = true)\n",
            " |-- installation_date: string (nullable = true)\n",
            "\n"
          ]
        }
      ]
    },
    {
      "cell_type": "code",
      "source": [
        "trip_data.show(n=10)"
      ],
      "metadata": {
        "colab": {
          "base_uri": "https://localhost:8080/"
        },
        "id": "qucJg4pp5kAJ",
        "outputId": "5a1e0c35-5ff4-46dd-a015-ccb581fef0b6"
      },
      "execution_count": null,
      "outputs": [
        {
          "output_type": "stream",
          "name": "stdout",
          "text": [
            "+----+--------+-------------------+--------------------+----------------+-------------------+--------------------+--------------+-------+-----------------+--------+\n",
            "|  id|duration|         start_date|  start_station_name|start_station_id|           end_date|    end_station_name|end_station_id|bike_id|subscription_type|zip_code|\n",
            "+----+--------+-------------------+--------------------+----------------+-------------------+--------------------+--------------+-------+-----------------+--------+\n",
            "|4576|      63|               NULL|South Van Ness at...|              66|2013-08-29 14:14:00|South Van Ness at...|            66|    520|       Subscriber|   94127|\n",
            "|4607|    NULL|2013-08-29 14:42:00|  San Jose City Hall|              10|2013-08-29 14:43:00|  San Jose City Hall|            10|    661|       Subscriber|   95138|\n",
            "|4130|      71|2013-08-29 10:16:00|Mountain View Cit...|              27|2013-08-29 10:17:00|Mountain View Cit...|            27|     48|       Subscriber|   97214|\n",
            "|4251|      77|2013-08-29 11:29:00|  San Jose City Hall|              10|2013-08-29 11:30:00|  San Jose City Hall|            10|     26|       Subscriber|   95060|\n",
            "|4299|      83|2013-08-29 12:02:00|South Van Ness at...|              66|2013-08-29 12:04:00|      Market at 10th|            67|    319|       Subscriber|   94103|\n",
            "|4927|     103|2013-08-29 18:54:00| Golden Gate at Polk|              59|2013-08-29 18:56:00| Golden Gate at Polk|            59|    527|       Subscriber|   94109|\n",
            "|4500|     109|2013-08-29 13:25:00|Santa Clara at Al...|               4|2013-08-29 13:27:00|    Adobe on Almaden|             5|    679|       Subscriber|   95112|\n",
            "|4563|     111|2013-08-29 14:02:00| San Salvador at 1st|               8|2013-08-29 14:04:00| San Salvador at 1st|             8|    687|       Subscriber|   95112|\n",
            "|4760|     113|2013-08-29 17:01:00|South Van Ness at...|              66|2013-08-29 17:03:00|South Van Ness at...|            66|    553|       Subscriber|   94103|\n",
            "|4258|     114|2013-08-29 11:33:00|  San Jose City Hall|              10|2013-08-29 11:35:00|         MLK Library|            11|    107|       Subscriber|   95060|\n",
            "+----+--------+-------------------+--------------------+----------------+-------------------+--------------------+--------------+-------+-----------------+--------+\n",
            "only showing top 10 rows\n",
            "\n"
          ]
        }
      ]
    },
    {
      "cell_type": "code",
      "source": [
        "station_data.show(n=10)"
      ],
      "metadata": {
        "colab": {
          "base_uri": "https://localhost:8080/"
        },
        "id": "GffbZCEo5t3h",
        "outputId": "e07da963-ea8a-4936-8912-bc57da3e443a"
      },
      "execution_count": null,
      "outputs": [
        {
          "output_type": "stream",
          "name": "stdout",
          "text": [
            "+---+--------------------+------------------+-------------------+----------+--------+-----------------+\n",
            "| id|                name|               lat|               long|dock_count|    city|installation_date|\n",
            "+---+--------------------+------------------+-------------------+----------+--------+-----------------+\n",
            "|  2|San Jose Diridon ...|         37.329732|-121.90178200000001|        27|San Jose|         8/6/2013|\n",
            "|  3|San Jose Civic Ce...|         37.330698|        -121.888979|        15|San Jose|         8/5/2013|\n",
            "|  4|Santa Clara at Al...|         37.333988|        -121.894902|        11|San Jose|         8/6/2013|\n",
            "|  5|    Adobe on Almaden|         37.331415|          -121.8932|        19|San Jose|         8/5/2013|\n",
            "|  6|    San Pedro Square|37.336721000000004|        -121.894074|        15|San Jose|         8/7/2013|\n",
            "|  7|Paseo de San Antonio|         37.333798|-121.88694299999999|        15|San Jose|         8/7/2013|\n",
            "|  8| San Salvador at 1st|         37.330165|-121.88583100000001|        15|San Jose|         8/5/2013|\n",
            "|  9|           Japantown|         37.348742|-121.89471499999999|        15|San Jose|         8/5/2013|\n",
            "| 10|  San Jose City Hall|         37.337391|        -121.886995|        15|San Jose|         8/6/2013|\n",
            "| 11|         MLK Library|         37.335885|-121.88566000000002|        19|San Jose|         8/6/2013|\n",
            "+---+--------------------+------------------+-------------------+----------+--------+-----------------+\n",
            "only showing top 10 rows\n",
            "\n"
          ]
        }
      ]
    },
    {
      "cell_type": "markdown",
      "source": [
        "1. Найти велосипед с максимальным временем пробега."
      ],
      "metadata": {
        "id": "7MJsJZQm53Jh"
      }
    },
    {
      "cell_type": "code",
      "source": [
        "# группируем по id, считаем сумму времени через функцию sum и сортируем по убывынию\n",
        "top_bike_stats = trip_data.groupBy(\"bike_id\") \\\n",
        "                         .agg({\"duration\": \"sum\"}) \\\n",
        "                         .orderBy(\"sum(duration)\", ascending=False) \\\n",
        "                         .limit(1).collect()[0]\n",
        "\n",
        "# Форматируем вывод результатов анализа\n",
        "result = (\n",
        "    f\"Велосипед {top_bike_stats['bike_id']} \"\n",
        "    f\"имеет наибольший пробег - {top_bike_stats['sum(duration)']} времени \"\n",
        ")\n",
        "result"
      ],
      "metadata": {
        "colab": {
          "base_uri": "https://localhost:8080/"
        },
        "id": "DN75YSj7_jBC",
        "outputId": "1f1a61c8-4b06-4dc3-9a59-a3f0bd61be32"
      },
      "execution_count": null,
      "outputs": [
        {
          "output_type": "stream",
          "name": "stdout",
          "text": [
            "Велосипед с идентификатором 535 использовался дольше всего - общее время поездок составило 18611693 единиц времени\n"
          ]
        }
      ]
    },
    {
      "cell_type": "markdown",
      "source": [
        "2. Найти наибольшее геодезическое расстояние между станциями"
      ],
      "metadata": {
        "id": "ngrTreZm546z"
      }
    },
    {
      "cell_type": "code",
      "source": [
        "!pip install haversine\n",
        "from haversine import haversine"
      ],
      "metadata": {
        "colab": {
          "base_uri": "https://localhost:8080/"
        },
        "id": "qaTP51ot50R2",
        "outputId": "dd8e3856-46b0-4a72-d110-1aa43fb1c023"
      },
      "execution_count": null,
      "outputs": [
        {
          "output_type": "stream",
          "name": "stdout",
          "text": [
            "Requirement already satisfied: haversine in /usr/local/lib/python3.11/dist-packages (2.9.0)\n"
          ]
        }
      ]
    },
    {
      "cell_type": "code",
      "source": [
        "# Вычисление максимального расстояния между станциями с использованием формулы гаверсинуса\n",
        "\n",
        "def calculate_geodesic_distance(lat1: float, lon1: float,\n",
        "                              lat2: float, lon2: float) -> float:\n",
        "    \"\"\"Вычисляет расстояние между двумя точками на сфере\n",
        "    по формуле гаверсинуса\"\"\"\n",
        "    return haversine((lat1, lon1), (lat2, lon2))\n",
        "\n",
        "distance_udf = func.udf(calculate_geodesic_distance)\n",
        "stations = station_data.select(\n",
        "    func.col(\"id\").alias(\"station_id\"),\n",
        "    \"lat\",\n",
        "    \"long\"\n",
        ")\n",
        "\n",
        "# все возможные пары станиций\n",
        "all_station_pairs = stations.crossJoin(\n",
        "    stations.select(\n",
        "        func.col(\"station_id\").alias(\"paired_station_id\"),\n",
        "        func.col(\"lat\").alias(\"paired_lat\"),\n",
        "        func.col(\"long\").alias(\"paired_long\")\n",
        "    )\n",
        ")\n",
        "unique_pairs = all_station_pairs.filter(\"station_id != paired_station_id\")\n",
        "\n",
        "# Вычисляем расстояния\n",
        "station_distances = unique_pairs.withColumn(\n",
        "    \"distance_km\",\n",
        "    distance_udf(\"lat\", \"long\", \"paired_lat\", \"paired_long\")\n",
        ")\n",
        "\n",
        "# Максимальное расстояние\n",
        "max_distance_pair = station_distances.orderBy(\n",
        "    func.col(\"distance_km\").desc()\n",
        ").limit(1).collect()[0]\n",
        "\n",
        "result = (\n",
        "    f\"Максимальное расстояние между станциями: {float(max_distance_pair['distance_km']):.3f} км\\n\"\n",
        "    f\"Между станциями {max_distance_pair['station_id']}) и {max_distance_pair['paired_station_id']})\"\n",
        ")\n",
        "\n",
        "result"
      ],
      "metadata": {
        "colab": {
          "base_uri": "https://localhost:8080/"
        },
        "id": "JEEre1H27CjB",
        "outputId": "c6fe3a4a-5e01-4a65-cee4-384ec0c1de96"
      },
      "execution_count": null,
      "outputs": [
        {
          "output_type": "stream",
          "name": "stdout",
          "text": [
            "Максимальное расстояние между станциями: 9.663183643537442 км\n",
            "Станция A (ID: 24) и Станция B (ID: 36)\n"
          ]
        }
      ]
    },
    {
      "cell_type": "markdown",
      "source": [
        "3. Найти путь велосипеда с максимальным временем пробега через станции"
      ],
      "metadata": {
        "id": "KMl2ELya-sTP"
      }
    },
    {
      "cell_type": "code",
      "source": [
        "bike_max_trip = trip_data.sort(\"duration\", ascending=False).limit(1).collect()[0]\n",
        "result = (\n",
        "    f\"Максимальный путь у велосипеда {bike_max_trip['bike_id']} и составляет {bike_max_trip['duration']}\"\n",
        "    f\"Из станции {bike_max_trip['start_station_name']} до станции {bike_max_trip['end_station_name']}\"\n",
        ")\n",
        "result"
      ],
      "metadata": {
        "colab": {
          "base_uri": "https://localhost:8080/"
        },
        "id": "plcifbSP-lbY",
        "outputId": "f44506f8-4b40-41da-8d6c-6e513fe34714"
      },
      "execution_count": null,
      "outputs": [
        {
          "output_type": "stream",
          "name": "stdout",
          "text": [
            "Максимальный путь велосипеда id=535 из станции South Van Ness at Market на станцию 2nd at Folsom (17270400)\n"
          ]
        }
      ]
    },
    {
      "cell_type": "markdown",
      "source": [
        "4. Найти количество велосипедов в системе."
      ],
      "metadata": {
        "id": "RwzXlC0S-uCd"
      }
    },
    {
      "cell_type": "code",
      "source": [
        "# счёт уникальных значений по bike_id\n",
        "bikes_count = trip_data.select(\"bike_id\").distinct().count()\n",
        "print(f\"Количество велосипедов в системе: {bikes_count}\")"
      ],
      "metadata": {
        "colab": {
          "base_uri": "https://localhost:8080/"
        },
        "id": "OMm2JpTD-vAt",
        "outputId": "c266837b-0b6c-4484-e412-34b3f48ce8b5"
      },
      "execution_count": null,
      "outputs": [
        {
          "output_type": "stream",
          "name": "stdout",
          "text": [
            "Количество велосипедов в системе: 700\n"
          ]
        }
      ]
    },
    {
      "cell_type": "markdown",
      "source": [
        "5. Найти пользователей потративших на поездки более 3 часов"
      ],
      "metadata": {
        "id": "XRrs--rR-yS0"
      }
    },
    {
      "cell_type": "code",
      "source": [
        "# группировка по zip_code, применение агрегатной функции sum, переименование полученного столбца.\n",
        "users = trip_data.groupBy(\"zip_code\").agg({\"duration\": \"sum\"}).withColumnRenamed(\"sum(duration)\", \"total_duration\")\n",
        "# оставляем строки с total_duration > 3 часов (3ч * 60 мин * 60 сек)\n",
        "long_term_users = users.filter(users.total_duration > (3 * 60 * 60))\n",
        "print(\"Пользователи, которые потратили на поездки более 3 часов:\")\n",
        "long_term_users.show()"
      ],
      "metadata": {
        "colab": {
          "base_uri": "https://localhost:8080/"
        },
        "id": "C7KbsQoc-zyN",
        "outputId": "72779014-ae76-412b-a51c-2620e7796f2b"
      },
      "execution_count": null,
      "outputs": [
        {
          "output_type": "stream",
          "name": "stdout",
          "text": [
            "Пользователи, которые потратили на поездки более 3 часов:\n",
            "+--------+--------------+\n",
            "|zip_code|total_duration|\n",
            "+--------+--------------+\n",
            "|   94102|      19128021|\n",
            "|   95134|        728023|\n",
            "|   84606|         95145|\n",
            "|   80305|        180906|\n",
            "|   60070|         28919|\n",
            "|   95519|         30303|\n",
            "|   43085|         11670|\n",
            "|   91910|         50488|\n",
            "|   77339|         13713|\n",
            "|   48063|         13755|\n",
            "|   85022|         12682|\n",
            "|    1090|         20391|\n",
            "|    2136|         16010|\n",
            "|   11722|         24331|\n",
            "|   95138|        155295|\n",
            "|   94610|       3630628|\n",
            "|   94404|       3589350|\n",
            "|   80301|        152189|\n",
            "|   91326|         65885|\n",
            "|   90742|         10965|\n",
            "+--------+--------------+\n",
            "only showing top 20 rows\n",
            "\n"
          ]
        }
      ]
    },
    {
      "cell_type": "code",
      "source": [
        "spark.stop()"
      ],
      "metadata": {
        "id": "gePoW6Nr-5p3"
      },
      "execution_count": null,
      "outputs": []
    }
  ]
}